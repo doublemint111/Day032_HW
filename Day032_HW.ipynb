{
 "cells": [
  {
   "cell_type": "code",
   "execution_count": 27,
   "metadata": {
    "scrolled": true
   },
   "outputs": [
    {
     "name": "stdout",
     "output_type": "stream",
     "text": [
      "Requirement already satisfied: pytesseract in d:\\anaconda3\\lib\\site-packages (0.3.3)\n",
      "Requirement already satisfied: Pillow in d:\\anaconda3\\lib\\site-packages (from pytesseract) (6.2.0)\n",
      "Note: you may need to restart the kernel to use updated packages.\n"
     ]
    }
   ],
   "source": [
    "#反爬：驗證碼處理\n",
    "pip install pytesseract"
   ]
  },
  {
   "cell_type": "code",
   "execution_count": 15,
   "metadata": {},
   "outputs": [
    {
     "name": "stdout",
     "output_type": "stream",
     "text": [
      "Note: you may need to restart the kernel to use updated packages.\n"
     ]
    },
    {
     "name": "stderr",
     "output_type": "stream",
     "text": [
      "ERROR: Invalid requirement: '#一\\u4e2apython的\\u56fe像\\u5904理\\u5e93，pytesseract依\\u8d56'\n"
     ]
    }
   ],
   "source": [
    "pip install pillow  #一个python的图像处理库，pytesseract依赖"
   ]
  },
  {
   "cell_type": "code",
   "execution_count": 1,
   "metadata": {},
   "outputs": [],
   "source": [
    "import requests\n",
    "import pytesseract\n",
    "from PIL import Image\n",
    "from io import BytesIO"
   ]
  },
  {
   "cell_type": "code",
   "execution_count": 2,
   "metadata": {},
   "outputs": [
    {
     "data": {
      "image/png": "[encoded data removed]",
      "text/plain": [
       "<PIL.PngImagePlugin.PngImageFile image mode=P size=640x377 at 0x233C0EEAE08>"
      ]
     },
     "execution_count": 2,
     "metadata": {},
     "output_type": "execute_result"
    }
   ],
   "source": [
    "response = requests.get('https://i0.wp.com/www.embhack.com/wp-content/uploads/2018/06/hello-world.png')\n",
    "img = Image.open(BytesIO(response.content))\n",
    "img"
   ]
  },
  {
   "cell_type": "code",
   "execution_count": 3,
   "metadata": {},
   "outputs": [
    {
     "name": "stdout",
     "output_type": "stream",
     "text": [
      "Hello World-\n"
     ]
    }
   ],
   "source": [
    "code = pytesseract.image_to_string(img)\n",
    "print(code)"
   ]
  },
  {
   "cell_type": "code",
   "execution_count": 5,
   "metadata": {},
   "outputs": [
    {
     "name": "stdout",
     "output_type": "stream",
     "text": [
      "619121\n"
     ]
    }
   ],
   "source": [
    "img = Image.open(\"test/test1.png\").convert(\"L\")\n",
    "code = pytesseract.image_to_string(img)\n",
    "print(code)"
   ]
  },
  {
   "cell_type": "code",
   "execution_count": 6,
   "metadata": {},
   "outputs": [
    {
     "name": "stdout",
     "output_type": "stream",
     "text": [
      "4413\n"
     ]
    }
   ],
   "source": [
    "img = Image.open(\"test/test2.png\").convert(\"L\")\n",
    "code = pytesseract.image_to_string(img)\n",
    "print(code)"
   ]
  },
  {
   "cell_type": "code",
   "execution_count": 7,
   "metadata": {},
   "outputs": [],
   "source": [
    "#像 test/test2.png 這種複雜的圖片怎麼辦？\n",
    "def binarizing(img,threshold): #input: gray image\n",
    "    pixdata = img.load()\n",
    "    w, h = img.size\n",
    "    for y in range(h):\n",
    "        for x in range(w):\n",
    "            if pixdata[x, y] < threshold:\n",
    "                pixdata[x, y] = 0\n",
    "            else:\n",
    "                pixdata[x, y] = 255\n",
    "    return img"
   ]
  },
  {
   "cell_type": "code",
   "execution_count": 8,
   "metadata": {},
   "outputs": [],
   "source": [
    "def depoint(img):   #input: gray image\n",
    "    pixdata = img.load()\n",
    "    w,h = img.size\n",
    "    for y in range(1,h-1):\n",
    "        for x in range(1,w-1):\n",
    "            count = 0\n",
    "            if pixdata[x,y-1] > 245:\n",
    "                count = count + 1\n",
    "            if pixdata[x,y+1] > 245:\n",
    "                count = count + 1\n",
    "            if pixdata[x-1,y] > 245:\n",
    "                count = count + 1\n",
    "            if pixdata[x+1,y] > 245:\n",
    "                count = count + 1\n",
    "            if count > 2:\n",
    "                pixdata[x,y] = 255\n",
    "    return img"
   ]
  },
  {
   "cell_type": "code",
   "execution_count": 9,
   "metadata": {},
   "outputs": [
    {
     "data": {
      "image/png": "[encoded data removed]",
      "text/plain": [
       "<PIL.Image.Image image mode=L size=154x64 at 0x233C0FDC8C8>"
      ]
     },
     "execution_count": 9,
     "metadata": {},
     "output_type": "execute_result"
    }
   ],
   "source": [
    "img = Image.open(\"test/test2.png\").convert(\"L\")\n",
    "img = binarizing(img, 100)\n",
    "img = depoint(img)\n",
    "img"
   ]
  },
  {
   "cell_type": "code",
   "execution_count": 10,
   "metadata": {},
   "outputs": [
    {
     "name": "stdout",
     "output_type": "stream",
     "text": [
      "1413\n"
     ]
    }
   ],
   "source": [
    "code = pytesseract.image_to_string(img)\n",
    "print(code)"
   ]
  },
  {
   "cell_type": "code",
   "execution_count": null,
   "metadata": {},
   "outputs": [],
   "source": []
  }
 ],
 "metadata": {
  "kernelspec": {
   "display_name": "Python 3",
   "language": "python",
   "name": "python3"
  },
  "language_info": {
   "codemirror_mode": {
    "name": "ipython",
    "version": 3
   },
   "file_extension": ".py",
   "mimetype": "text/x-python",
   "name": "python",
   "nbconvert_exporter": "python",
   "pygments_lexer": "ipython3",
   "version": "3.7.4"
  }
 },
 "nbformat": 4,
 "nbformat_minor": 2
}
